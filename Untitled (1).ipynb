{
 "cells": [
  {
   "cell_type": "code",
   "execution_count": 1,
   "metadata": {},
   "outputs": [],
   "source": [
    "import sqlite3\n",
    "import csv"
   ]
  },
  {
   "cell_type": "code",
   "execution_count": 8,
   "metadata": {},
   "outputs": [],
   "source": [
    "class Product:\n",
    "    def __init__(self, product_id, name, price, quantity):\n",
    "        self.product_id = product_id\n",
    "        self.name = name\n",
    "        self.price = price\n",
    "        self.quantity = quantity\n",
    "        \n",
    "    def get_description(self):\n",
    "        return f\"{str(self.product_id)} \\t {self.name} \\t {str(self.price)} \\t {str(self.quantity)}\"\n",
    "        \n",
    "class Book(Product):\n",
    "    def __init__(self, product_id, name, price, quantity, author):\n",
    "        super().__init__(product_id, name, price, quantity)\n",
    "        self.author = author\n",
    "        \n",
    "    def get_description(self):\n",
    "        return f\"{super().get_description()} \\t {self.author}\"\n",
    "    \n",
    "    \n",
    "class Movie(Product):\n",
    "    def __init__(self, product_id, name, price, quantity, genre, release_year):\n",
    "        super().__init__(product_id, name, price, quantity)\n",
    "        self.__genre = genre\n",
    "        self.__release_year = release_year\n",
    "    \n",
    "    def get_description(self):\n",
    "        return f\"{super().get_description()} \\t {self.__genre} \\t {str(self.__release_year)}\"\n",
    "        \n",
    "def add_product(product):\n",
    "    inventory.append(product)    \n",
    "        \n",
    "def show_all_products(inventory):\n",
    "    print(\"PRODUCT \\t NAME \\t\\t PRICE \\t QTY \\t TOTAL \")\n",
    "    print(\"-\"*100)\n",
    "    print(\"-\"*100)\n",
    "    for item in inventory:\n",
    "        print(f'{item[0]} \\t {item[1]} \\t {item[2]} \\t {item[3]} \\t {(item[2]+item[3])}')\n",
    "    print(\"-\"*100)\n",
    "    \n",
    "        \n",
    "def initalize_from_file(filename, inventory) :\n",
    "    \"\"\"reads csv file and save data into database and list of all employees\"\"\"\n",
    "    \n",
    "    with  open(filename, \"r\") as data_file : \n",
    "        csv_data = csv.reader(data_file)\n",
    "        \n",
    "        for row in csv_data:\n",
    "            \n",
    "            inventory.append(row)\n",
    "            \n",
    "\n",
    "        \n",
    "\n",
    "\n",
    "                \n",
    "\n",
    "        \n",
    "        \n",
    "        \n",
    "    \n",
    "        \n",
    "        \n",
    "        \n",
    "        \n",
    "    \n",
    "    \n",
    "        "
   ]
  },
  {
   "cell_type": "code",
   "execution_count": 6,
   "metadata": {},
   "outputs": [
    {
     "name": "stdout",
     "output_type": "stream",
     "text": [
      "[['1', 'PROD001', 'Ishmael', '12.99', '30'], ['2', 'PROD002', 'Storytime', '5.99', '10'], ['3', 'PROD003', 'Gladiator', '19.99', '5'], ['4', 'PROD004', 'Revanent', '29.99', '15']]\n"
     ]
    }
   ],
   "source": [
    "inventory = []\n",
    "filename= \"inventory_list.csv\"\n",
    "initalize_from_file(filename, inventory)\n",
    "print(inventory)"
   ]
  },
  {
   "cell_type": "code",
   "execution_count": null,
   "metadata": {},
   "outputs": [],
   "source": []
  }
 ],
 "metadata": {
  "kernelspec": {
   "display_name": "Python 3",
   "language": "python",
   "name": "python3"
  },
  "language_info": {
   "codemirror_mode": {
    "name": "ipython",
    "version": 3
   },
   "file_extension": ".py",
   "mimetype": "text/x-python",
   "name": "python",
   "nbconvert_exporter": "python",
   "pygments_lexer": "ipython3",
   "version": "3.8.3"
  }
 },
 "nbformat": 4,
 "nbformat_minor": 4
}
